{
 "cells": [
  {
   "cell_type": "markdown",
   "metadata": {},
   "source": [
    "## Table of Contents:\n",
    "1. [Introduction](#1)\n",
    "1. [Detecting Bots with Random Forest Machine Learning](#2)\n",
    "1. [Building Twitter Bots](#3)\n",
    "1. [Data Retrevial](#4)\n",
    "1. [Results & Conclusion](#5)\n",
    "1. [Appendix](#6)\n",
    "1. [References](#7)"
   ]
  },
  {
   "cell_type": "markdown",
   "metadata": {},
   "source": [
    "<a id=\"1\"></a>\n",
    "# 1. Introduction\n",
    "This project aims to create a Twitter bot that cannot be detected by commonplace bot detection algorithms as well as provide an elementary overview of Random Forest machine learning and its implementation. We first introduce Random Forest machine learning and illustrate how it can be used to classify Twitter accounts as either bots or ordinary users. Next we create two bots. We build the first (smarter) bot on a Long Short-Term Memory neural network in an attempt to evade detection by the Random Forest algorithm. The second is a bot similar to traditional bots on Twitter as a control subject with simple, favoriting, retweeting and following mechanisms. We then illustrate how to retrieve the publicly available data from the Twitter API for each of the respective bots. Lastly, we run this data through the Random Forest bot detection algorithm in order to ascertain whether either are categorized as a bot. "
   ]
  },
  {
   "cell_type": "markdown",
   "metadata": {},
   "source": [
    "<a id=\"2\"></a>\n",
    "# 2. Detecting Bots with Random Forest Machine Learning\n",
    "\n",
    "\n",
    "## 2.1 Random Forest\n",
    "Random Forests are machine learning algorithms which create a multitude of decision trees and find a democratically determined result. There are essentially two kinds of Random Forest algorithms: classification algorithms and regression algorithms. Classification machine learning algorithms attempt to identify which set of sub-categories a certain observation belongs to. On the other hand, regression algorithms estimate the relationship between variables. For our purposes, the classification Random Forest type is the best suited for classifying whether a given Twitter account is a bot. \n",
    "\n",
    "We do not address the inner workings of Random Forest algorithms (for how a Random Forest algorithm is created [here](https://enlight.nyc/projects/random-forest/)), but instead cover how Random Forests operate in principle and how they are trained. Random Forests are comprised of multiple decision tress. A single decision tree is very weak in that it is not flexible in predictions of new data. As quoted from the *The Elements of Statistical Learning*, \"Trees have one aspect prevents them from being the ideal tool for predictive learning, nameley inaccuracy\" (Hasite, Tibshirani, Friedman; 2001). The strength of the predictive power of Random Forest comes from the shear number of decision trees and the random nature of how they are made. Bellow is an image of a single randomly generated decision tree taken from our Random Forest. \n",
    "\n",
    "<a id=\"fig1\"></a>\n",
    "<img src=\"bot_tree_example.png\">\n",
    "<center>*Figure 1: Example of decision tree from Random Forest.*</center>\n",
    "\n",
    "A decision tree is formed first around a root node which attaches to various internal nodes. These internal nodes are attached to other root nodes until the result in what is known as a leaf node. These leaf nodes are where the result is determined. We address how these trees are generated [later in the notebook](#tree_creation).\n",
    "\n",
    "\n",
    "## 2.2 Creating a Random Forest\n",
    "\n",
    "### 2.2.1 Importing & Preparing Data\n",
    "\n",
    "To train a Random Forest algorithm, we require a dataset of historical data which includes the independent variables we want to consider (colloquially known as features), as well as the dependent variable––i.e. the outcome we want to predict (known as labels). In our case the features include all numerical or boolean data publicaly provided by Twitter for a given account and the labels include whether the account is a known bot or not. To do this we import the data of `'bot_or_not_data.csv'` containing all public information on a number of accounts as well as information as to whether the account is a bot."
   ]
  },
  {
   "cell_type": "code",
   "execution_count": 1,
   "metadata": {
    "scrolled": true
   },
   "outputs": [
    {
     "data": {
      "text/html": [
       "<div>\n",
       "<style scoped>\n",
       "    .dataframe tbody tr th:only-of-type {\n",
       "        vertical-align: middle;\n",
       "    }\n",
       "\n",
       "    .dataframe tbody tr th {\n",
       "        vertical-align: top;\n",
       "    }\n",
       "\n",
       "    .dataframe thead th {\n",
       "        text-align: right;\n",
       "    }\n",
       "</style>\n",
       "<table border=\"1\" class=\"dataframe\">\n",
       "  <thead>\n",
       "    <tr style=\"text-align: right;\">\n",
       "      <th></th>\n",
       "      <th>screen name</th>\n",
       "      <th>followers</th>\n",
       "      <th>friends</th>\n",
       "      <th>statuses count</th>\n",
       "      <th>favourites</th>\n",
       "      <th>location</th>\n",
       "      <th>default profile image</th>\n",
       "      <th>language</th>\n",
       "      <th>created at</th>\n",
       "      <th>verified</th>\n",
       "      <th>text</th>\n",
       "      <th>bot</th>\n",
       "    </tr>\n",
       "  </thead>\n",
       "  <tbody>\n",
       "    <tr>\n",
       "      <th>0</th>\n",
       "      <td>aaroncarter</td>\n",
       "      <td>571310</td>\n",
       "      <td>76070</td>\n",
       "      <td>56077</td>\n",
       "      <td>37437</td>\n",
       "      <td>Sony Recording Artist</td>\n",
       "      <td>False</td>\n",
       "      <td>en</td>\n",
       "      <td>Thu Apr 23 20:15:49 +0000 2009</td>\n",
       "      <td>True</td>\n",
       "      <td>{u'contributors': None, u'truncated': False, u...</td>\n",
       "      <td>0</td>\n",
       "    </tr>\n",
       "    <tr>\n",
       "      <th>1</th>\n",
       "      <td>michellebranch</td>\n",
       "      <td>292385</td>\n",
       "      <td>963</td>\n",
       "      <td>16688</td>\n",
       "      <td>1248</td>\n",
       "      <td>NaN</td>\n",
       "      <td>False</td>\n",
       "      <td>en</td>\n",
       "      <td>Fri Mar 30 20:58:59 +0000 2007</td>\n",
       "      <td>True</td>\n",
       "      <td>{u'contributors': None, u'truncated': False, u...</td>\n",
       "      <td>0</td>\n",
       "    </tr>\n",
       "    <tr>\n",
       "      <th>2</th>\n",
       "      <td>stronginmyfaith</td>\n",
       "      <td>1</td>\n",
       "      <td>7</td>\n",
       "      <td>3</td>\n",
       "      <td>0</td>\n",
       "      <td>NaN</td>\n",
       "      <td>True</td>\n",
       "      <td>en</td>\n",
       "      <td>7/13/2009 0:38</td>\n",
       "      <td>False</td>\n",
       "      <td>Status(contributors=None, truncated=False, tex...</td>\n",
       "      <td>0</td>\n",
       "    </tr>\n",
       "    <tr>\n",
       "      <th>3</th>\n",
       "      <td>Jessicaveronica</td>\n",
       "      <td>222659</td>\n",
       "      <td>352</td>\n",
       "      <td>10999</td>\n",
       "      <td>143</td>\n",
       "      <td>5th Dimension</td>\n",
       "      <td>False</td>\n",
       "      <td>en</td>\n",
       "      <td>Tue Mar 31 21:12:33 +0000 2009</td>\n",
       "      <td>True</td>\n",
       "      <td>{u'contributors': None, u'truncated': False, u...</td>\n",
       "      <td>0</td>\n",
       "    </tr>\n",
       "    <tr>\n",
       "      <th>4</th>\n",
       "      <td>resargento</td>\n",
       "      <td>646</td>\n",
       "      <td>446</td>\n",
       "      <td>25292</td>\n",
       "      <td>13440</td>\n",
       "      <td>brasil</td>\n",
       "      <td>False</td>\n",
       "      <td>pt</td>\n",
       "      <td>4/13/2012 17:37</td>\n",
       "      <td>False</td>\n",
       "      <td>NaN</td>\n",
       "      <td>0</td>\n",
       "    </tr>\n",
       "  </tbody>\n",
       "</table>\n",
       "</div>"
      ],
      "text/plain": [
       "       screen name  followers  friends  statuses count  favourites  \\\n",
       "0      aaroncarter     571310    76070           56077       37437   \n",
       "1   michellebranch     292385      963           16688        1248   \n",
       "2  stronginmyfaith          1        7               3           0   \n",
       "3  Jessicaveronica     222659      352           10999         143   \n",
       "4       resargento        646      446           25292       13440   \n",
       "\n",
       "                 location  default profile image language   \\\n",
       "0  Sony Recording Artist                   False        en   \n",
       "1                     NaN                  False        en   \n",
       "2                     NaN                   True        en   \n",
       "3           5th Dimension                  False        en   \n",
       "4                  brasil                  False        pt   \n",
       "\n",
       "                       created at  verified  \\\n",
       "0  Thu Apr 23 20:15:49 +0000 2009      True   \n",
       "1  Fri Mar 30 20:58:59 +0000 2007      True   \n",
       "2                  7/13/2009 0:38     False   \n",
       "3  Tue Mar 31 21:12:33 +0000 2009      True   \n",
       "4                 4/13/2012 17:37     False   \n",
       "\n",
       "                                                text  bot  \n",
       "0  {u'contributors': None, u'truncated': False, u...    0  \n",
       "1  {u'contributors': None, u'truncated': False, u...    0  \n",
       "2  Status(contributors=None, truncated=False, tex...    0  \n",
       "3  {u'contributors': None, u'truncated': False, u...    0  \n",
       "4                                                NaN    0  "
      ]
     },
     "execution_count": 1,
     "metadata": {},
     "output_type": "execute_result"
    }
   ],
   "source": [
    "# importing necesary libraries\n",
    "import os\n",
    "import numpy as np\n",
    "import pandas as pd\n",
    "\n",
    "#importing training data\n",
    "data = pd.read_csv('bot_or_not_data.csv')\n",
    "data.head(5)"
   ]
  },
  {
   "cell_type": "markdown",
   "metadata": {},
   "source": [
    "After importing our data for training the Random Forest, we need to remove any reduntant data for our prediction (i.e. `location`, `language`, and `created at`). However, we tokenize the `screen name` column because Twitter bots occasionally countain the word \"bot\" in their screen. We also find how many retweets each account has made since bots often retweet without generating their own tweets. Lastly, we keep the `verified`, `default profile image` columns and change them from boolean data (True or False) to numerical data for the Random Forest to interperet. \n",
    "\n",
    "We create the bellow function to change all True values into 1s, and all False values into 0s. It also assigns a value of 1 to all accounts which contain bot in its name, and finds how many retweets the account has made and creates a new column to store these values named `retweets`."
   ]
  },
  {
   "cell_type": "code",
   "execution_count": 2,
   "metadata": {
    "scrolled": true
   },
   "outputs": [
    {
     "name": "stdout",
     "output_type": "stream",
     "text": [
      "The shape of the data is: (2232, 9)\n"
     ]
    }
   ],
   "source": [
    "# if bot in name replace with 1 or 0\n",
    "data['screen name'] = np.where(data['screen name'].str.contains('bot'),1,0)\n",
    "\n",
    "# weighting number of retweets per account and assigning value to new index column\n",
    "number_retweets = (data[\"text\"].str.find('retweet')+1) + (data[\"text\"].str.find('RT @')+1)\n",
    "data[\"retweets\"] = number_retweets/1000\n",
    "\n",
    "# removing non-numerical data & converting booleans to 1s & 0s\n",
    "for column in data:\n",
    "    if np.issubdtype(data[str(column)].dtype, np.dtype(bool)) == True:\n",
    "        data[column]*=1\n",
    "    elif np.issubdtype(data[str(column)].dtype, np.number) == False:\n",
    "        data = data.drop(str(column), axis = 1)\n",
    "\n",
    "# removing NaNs\n",
    "data = data.fillna(0)        \n",
    "\n",
    "# finding the shape of the dataset\n",
    "print('The shape of the data is:', data.shape)"
   ]
  },
  {
   "cell_type": "markdown",
   "metadata": {},
   "source": [
    "Now that our data has been formatted for our Random Forest, we isolate the label (here the `bot` column) and convert it into a numpy array. We then remove the column from the data and also convert the data into a numpy array. "
   ]
  },
  {
   "cell_type": "code",
   "execution_count": 3,
   "metadata": {},
   "outputs": [],
   "source": [
    "# labels are what we want to predict with random forest (in this case whether bot or not)\n",
    "labels = np.array(data['bot'])\n",
    "\n",
    "# removing the 'bot' column from the dataset\n",
    "data = data.drop('bot', axis = 1)\n",
    "\n",
    "# saving column names for later use in data_list\n",
    "data_list = list(data.columns)\n",
    "\n",
    "# converting into numpy array\n",
    "data = np.array(data)"
   ]
  },
  {
   "cell_type": "markdown",
   "metadata": {},
   "source": [
    "### 2.2.2. Bootstrapping and Training the Random Forest\n",
    "Now that our cell is prepared for implementation, we import `test_train_split` from the sklearn library. This will help us to created a bootstapped dataset which will be used to train the data. The bootstrapped dataset is created by randomly selecting accounts (rows) from the dataset and compiling them into a new dataset. When randomly selecting subjects, we also allow for a specific row to be chosen repeatedly. The paramter`test_size = .3` implies that 70% of our data will be used in the bootstapped dataset and 30% will be ignored for later testing of the Random Forest.  We then assign training data and labels and testing data and labels."
   ]
  },
  {
   "cell_type": "code",
   "execution_count": 4,
   "metadata": {},
   "outputs": [
    {
     "name": "stdout",
     "output_type": "stream",
     "text": [
      "Training Data Shape: (1562, 8)\n",
      "Training Labels Shape: (1562,)\n",
      "Testing Data Shape: (670, 8)\n",
      "Testing Labels Shape: (670,)\n"
     ]
    }
   ],
   "source": [
    "# importing  train_test_split in order to create a bootstraped dataset\n",
    "from sklearn.model_selection import train_test_split\n",
    "\n",
    "# spliting the data into training data and testing data\n",
    "train_data, test_data, train_labels, test_labels = train_test_split(data, labels, test_size = .3, random_state = 101)\n",
    "\n",
    "# displaying the shapes of the partiotined training sets and testing sets\n",
    "print('Training Data Shape:', train_data.shape)\n",
    "print('Training Labels Shape:', train_labels.shape)\n",
    "print('Testing Data Shape:', test_data.shape)\n",
    "print('Testing Labels Shape:', test_labels.shape)"
   ]
  },
  {
   "cell_type": "markdown",
   "metadata": {},
   "source": [
    "<a id=\"tree_creation\"></a>\n",
    "\n",
    "Now that we have created our bootstrapped dataset, we import `RandomForestClassifier`. With this we decide our Random Forest will be comprised of 1000 randomly generated decision trees. `rf.fit()` then trains our Random Forest with the assigned training data and labels.\n",
    "To create the first decision tree, the algorithm randomly selects only two features (columns) to determine the root node of the tree. The algorithm then compares the results of the subset of features and whichever was superior in determining the correct outcome is assigned to the root node. This same procedure is repeated with the internal nodes while disregarding the features which have already been assigned until all features have been considered. The algorithm repeats this process to create hundreds to thousands of unique trees.\n",
    "\n",
    "<img src=\"tree_explanation.png\" width = 500>\n",
    "<center>*Figure 2: Explanation of decision tree creation with Random Forest*</center>"
   ]
  },
  {
   "cell_type": "code",
   "execution_count": 5,
   "metadata": {},
   "outputs": [
    {
     "data": {
      "text/plain": [
       "RandomForestClassifier(bootstrap=True, class_weight=None, criterion='gini',\n",
       "            max_depth=None, max_features='auto', max_leaf_nodes=None,\n",
       "            min_impurity_decrease=0.0, min_impurity_split=None,\n",
       "            min_samples_leaf=1, min_samples_split=2,\n",
       "            min_weight_fraction_leaf=0.0, n_estimators=1000, n_jobs=1,\n",
       "            oob_score=False, random_state=42, verbose=0, warm_start=False)"
      ]
     },
     "execution_count": 5,
     "metadata": {},
     "output_type": "execute_result"
    }
   ],
   "source": [
    "# import random forest\n",
    "from sklearn.ensemble import RandomForestClassifier\n",
    "\n",
    "# setting random forest parameters\n",
    "global rf\n",
    "rf = RandomForestClassifier(n_estimators = 1000, random_state = 42)\n",
    "\n",
    "# fitting the random forest with the training data and training labels\n",
    "rf.fit(train_data, train_labels)"
   ]
  },
  {
   "cell_type": "markdown",
   "metadata": {},
   "source": [
    "### 2.1.3 Accuracy & Predicting Outcomes\n",
    "Now that we have a functional Random Forest, we need to check how accurately it predicts whether a given account is a bot or not.  We test accuracy of our Random Forest by using out-of-bag data set (the portion of data left out of the bootstrapped dataset) and predicting outcomes for its given features. We then compare the difference between the predicted labels and the actual labels to find how accurate our Random Forrest is. We take data with variables (features) identical to those used in the bootstrapped dataset and run it to predict out dependent variable (label) for a given account with `rf.predict()`. The function runs the data through each of the decision trees and records whether it ended in a bot node or a not-a-bot node. The algorithm, then records this result for every decision tree in the Random Forest. Finally, the algorithm tallies the about of bot results and the number of not-a-bot results. Whichever state received the most positive results is then the final result for that account. It does this for every account and creates an array of predicted states (bot/not-a-bot). We then take the absolute value of the difference between the predicted labels and the actual labels to find the mean absolute error of our prediction. "
   ]
  },
  {
   "cell_type": "code",
   "execution_count": 6,
   "metadata": {
    "scrolled": true
   },
   "outputs": [
    {
     "name": "stdout",
     "output_type": "stream",
     "text": [
      "Mean absolute error: 0.0791 degrees\n",
      "Accuracy of random forest prediction: 95.2077 %\n"
     ]
    }
   ],
   "source": [
    "# using out-of-bag test data to test accuracy of predictions\n",
    "predictions = rf.predict(test_data)\n",
    "\n",
    "\n",
    "# finding mean sbsolute error\n",
    "errors = abs(predictions - test_labels)\n",
    "print(\"Mean absolute error:\", round(np.mean(errors), 4), 'degrees')\n",
    "\n",
    "# finding accuracy or predictions as percentage\n",
    "accuracy = (sum(predictions)/sum(test_labels))*100\n",
    "print('Accuracy of random forest prediction:', round(accuracy, 4),'%')"
   ]
  },
  {
   "cell_type": "markdown",
   "metadata": {},
   "source": [
    "This result implies that our Random Forest determines whether a given account is a bot or not with 95.21% accuracy. This was the highest degree of accuracy we were able to achieve with any specific variables and parameter settings. Bellow, we show the receiver operating characteristic (ROC) curve for our Random Forest which plots the true positive rate against the false positive rate. The blue line shows perfect accuracy of comparing the training data with itself, and the red dotted line represents the prediction of our Random Forest. "
   ]
  },
  {
   "cell_type": "code",
   "execution_count": 8,
   "metadata": {},
   "outputs": [
    {
     "data": {
      "text/plain": [
       "<matplotlib.legend.Legend at 0x1a16428ba8>"
      ]
     },
     "execution_count": 8,
     "metadata": {},
     "output_type": "execute_result"
    },
    {
     "data": {
      "image/png": "[encoded data removed]",
      "text/plain": [
       "<Figure size 432x288 with 1 Axes>"
      ]
     },
     "metadata": {},
     "output_type": "display_data"
    }
   ],
   "source": [
    "# importing further libraries for accuracy visualization\n",
    "import matplotlib.pyplot as plt\n",
    "import seaborn as sb\n",
    "from sklearn.metrics import roc_curve, auc\n",
    "\n",
    "# creating probability scores for training and test data\n",
    "scores_train = rf.predict_proba(train_data)\n",
    "scores_test = rf.predict_proba(test_data)\n",
    "\n",
    "train_label_scores = []\n",
    "test_label_scores = []\n",
    "for i in range(len(scores_train)):\n",
    "    train_label_scores.append(scores_train[i][1])\n",
    "\n",
    "for i in range(len(scores_test)):\n",
    "    test_label_scores.append(scores_test[i][1])\n",
    "    \n",
    "fpr_rf_train, tpr_rf_train, _ = roc_curve(train_labels, train_label_scores, pos_label=1)\n",
    "fpr_rf_test, tpr_rf_test, _ = roc_curve(test_labels, test_label_scores, pos_label=1)\n",
    "\n",
    "# plotting lines and creating legend\n",
    "plt.plot(fpr_rf_train, tpr_rf_train, color='darkblue', label='Training AUC: %5f' %auc(fpr_rf_train, tpr_rf_train))\n",
    "plt.plot(fpr_rf_test, tpr_rf_test, color='red', ls='--', label='Testing AUC: %5f' %auc(fpr_rf_test, tpr_rf_test))\n",
    "\n",
    "# setting graphic style, labels & axes\n",
    "sb.set_style(\"darkgrid\", {'axes.grid' : False})\n",
    "plt.title('ROC')\n",
    "plt.xlabel('False Positive Rate')\n",
    "plt.ylabel('True Positive Rate')\n",
    "plt.legend(loc='lower right')"
   ]
  },
  {
   "cell_type": "markdown",
   "metadata": {},
   "source": [
    "The next step in fine tuning a machine learning algorithm is generally to find the most important variables which contributed to our result. In the case of out Random Forest, we find that the most important variable for the Random Forest's bot detection is the number of accounts it is following, then the number of accounts that are following it, followed by the number of posts it has made etc. This exemplifies how the Random Forest works. \n",
    "\n",
    "For example, a human would logically be able to associate the verified status of an account with the fact that it likely is not a bot.  The Random Forest however, cannot comprehend the significance of account verification and assigns it as a less important determinant of bot detection because of how few verified accounts there were in the training dataset (which is also representative of the minority of verified accounts on Twitter itself). The Random Forest does pick up on the fact that bots follow a much larger number of accounts than real users. This makes logical sense as very few real people are interested in following hundreds or thousands of accounts. Whereas bots follow a large number of accounts to increase their own following."
   ]
  },
  {
   "cell_type": "code",
   "execution_count": 83,
   "metadata": {},
   "outputs": [
    {
     "name": "stdout",
     "output_type": "stream",
     "text": [
      "Variable: friends                                  Importance: 0.27\n",
      "Variable: followers                                Importance: 0.21\n",
      "Variable: favourites                               Importance: 0.17\n",
      "Variable: statuses count                           Importance: 0.13\n",
      "Variable: verified                                 Importance: 0.1\n",
      "Variable: retweets                                 Importance: 0.1\n",
      "Variable: screen name                              Importance: 0.01\n",
      "Variable: default profile image                    Importance: 0.01\n"
     ]
    },
    {
     "data": {
      "text/plain": [
       "Text(0.5,1,'Cumulative Importance')"
      ]
     },
     "execution_count": 83,
     "metadata": {},
     "output_type": "execute_result"
    },
    {
     "data": {
      "image/png": "[encoded data removed]",
      "text/plain": [
       "<Figure size 432x288 with 1 Axes>"
      ]
     },
     "metadata": {},
     "output_type": "display_data"
    }
   ],
   "source": [
    "# finding the importance of features\n",
    "importances = list(rf.feature_importances_)\n",
    "variable_importances = [(data, round(importance, 2)) for data, importance in zip(data_list, importances)]\n",
    "variable_importances = sorted(variable_importances, key = lambda x: x[1], reverse = True)\n",
    "[print('Variable: {:40} Importance: {}'.format(*pair)) for pair in variable_importances]\n",
    "\n",
    "# creating a sorted list of variables \n",
    "sorted_importances = [importance[1] for importance in variable_importances]\n",
    "sorted_variables = [importance[0] for importance in variable_importances]\n",
    "\n",
    "# list of x locations for plotting\n",
    "x_values = list(range(len(importances)))\n",
    "\n",
    "# making a cumulative ditribution of importance by variable\n",
    "cumulative_importances = np.cumsum(sorted_importances)\n",
    "plt.plot(x_values, cumulative_importances)\n",
    "plt.xticks(x_values, sorted_variables, rotation = 'vertical')\n",
    "\n",
    "# axis labels, style and title\n",
    "plt.style.use('seaborn-bright')\n",
    "plt.xlabel('Variable')\n",
    "plt.ylabel('Importance')\n",
    "plt.title('Cumulative Importance')"
   ]
  },
  {
   "cell_type": "markdown",
   "metadata": {},
   "source": [
    "Next, we run the Random Forest with only the most instrumental variables to see if we can improve its accuracy. However, in the case of our Random Forest for predicting whether a Twitter account is a bot, we found that using any particular subset of the variables lead to a loss in accuracy and therefore continued with all our variables in the Random Forest. "
   ]
  },
  {
   "cell_type": "markdown",
   "metadata": {},
   "source": [
    "<a id=\"3\"></a>\n",
    "# 3. Building Twitter Bots\n",
    "\n",
    "In this part of the project, we create two bots that will be tested by random forest later on. Our goal is to create a smart bot and a dummy one. The reason for creating two bots is that it allows to show that, despite being the most common technique to detect bots, random forest may fail sometimes. Let's start with the most interesting bot, the smart one and then go over the dummy one."
   ]
  },
  {
   "cell_type": "markdown",
   "metadata": {},
   "source": [
    "## 3.1. Creating a (Smart) Bot with LTSM Neural Networks\n",
    "\n",
    "To defeat the Random Forest algorithm, we create a bot that go over tweets containing the strings sequence \"bot\" and retweet, favorite and follow the author. In other words, if the bot detects a tweet where the word \"bot\" appears, it will retweet the tweet, favorite it and follow the author of the tweet. We decide to limit the retweet, follow and favorite operations to 100 times every 15 seconds.\n",
    "\n",
    "The choice of the strings sequence \"bot\" is not accidental. We know that the random forest algorithm uses the number of followers as a predictor in bot detection. By following twitter bot accounts, we hope that they follow us back, since they have likely been programmed to do so. By following us back, they then reduce the probability that we get detected as a bot by random forest."
   ]
  },
  {
   "cell_type": "code",
   "execution_count": 9,
   "metadata": {},
   "outputs": [
    {
     "name": "stdout",
     "output_type": "stream",
     "text": [
      "fuurisu_bot\n",
      "xxAKBxx_seven\n",
      "sportsword_bot\n",
      "KatekyoMyj_bot\n",
      "vcdgrra_bot\n",
      "yxxx_bot\n",
      "irairamax_bot\n",
      "cielo_de_bot\n"
     ]
    },
    {
     "ename": "KeyboardInterrupt",
     "evalue": "",
     "output_type": "error",
     "traceback": [
      "\u001b[0;31m---------------------------------------------------------------------------\u001b[0m",
      "\u001b[0;31mKeyboardInterrupt\u001b[0m                         Traceback (most recent call last)",
      "\u001b[0;32m<ipython-input-9-c07a1ccfb294>\u001b[0m in \u001b[0;36m<module>\u001b[0;34m()\u001b[0m\n\u001b[1;32m     39\u001b[0m \u001b[0;34m\u001b[0m\u001b[0m\n\u001b[1;32m     40\u001b[0m     \u001b[0;32mtry\u001b[0m\u001b[0;34m:\u001b[0m\u001b[0;34m\u001b[0m\u001b[0;34m\u001b[0m\u001b[0m\n\u001b[0;32m---> 41\u001b[0;31m         \u001b[0;32mfor\u001b[0m \u001b[0mfollower\u001b[0m \u001b[0;32min\u001b[0m \u001b[0mtweepy\u001b[0m\u001b[0;34m.\u001b[0m\u001b[0mCursor\u001b[0m\u001b[0;34m(\u001b[0m\u001b[0mapi\u001b[0m\u001b[0;34m.\u001b[0m\u001b[0mfollowers\u001b[0m\u001b[0;34m)\u001b[0m\u001b[0;34m.\u001b[0m\u001b[0mitems\u001b[0m\u001b[0;34m(\u001b[0m\u001b[0;34m)\u001b[0m\u001b[0;34m:\u001b[0m\u001b[0;34m\u001b[0m\u001b[0;34m\u001b[0m\u001b[0m\n\u001b[0m\u001b[1;32m     42\u001b[0m             \u001b[0mfollower\u001b[0m\u001b[0;34m.\u001b[0m\u001b[0mfollow\u001b[0m\u001b[0;34m(\u001b[0m\u001b[0;34m)\u001b[0m\u001b[0;34m\u001b[0m\u001b[0;34m\u001b[0m\u001b[0m\n\u001b[1;32m     43\u001b[0m     \u001b[0;32mexcept\u001b[0m \u001b[0mException\u001b[0m \u001b[0;32mas\u001b[0m \u001b[0merror\u001b[0m\u001b[0;34m:\u001b[0m\u001b[0;34m\u001b[0m\u001b[0;34m\u001b[0m\u001b[0m\n",
      "\u001b[0;32m/anaconda3/lib/python3.6/site-packages/tweepy/cursor.py\u001b[0m in \u001b[0;36m__next__\u001b[0;34m(self)\u001b[0m\n\u001b[1;32m     47\u001b[0m \u001b[0;34m\u001b[0m\u001b[0m\n\u001b[1;32m     48\u001b[0m     \u001b[0;32mdef\u001b[0m \u001b[0m__next__\u001b[0m\u001b[0;34m(\u001b[0m\u001b[0mself\u001b[0m\u001b[0;34m)\u001b[0m\u001b[0;34m:\u001b[0m\u001b[0;34m\u001b[0m\u001b[0;34m\u001b[0m\u001b[0m\n\u001b[0;32m---> 49\u001b[0;31m         \u001b[0;32mreturn\u001b[0m \u001b[0mself\u001b[0m\u001b[0;34m.\u001b[0m\u001b[0mnext\u001b[0m\u001b[0;34m(\u001b[0m\u001b[0;34m)\u001b[0m\u001b[0;34m\u001b[0m\u001b[0;34m\u001b[0m\u001b[0m\n\u001b[0m\u001b[1;32m     50\u001b[0m \u001b[0;34m\u001b[0m\u001b[0m\n\u001b[1;32m     51\u001b[0m     \u001b[0;32mdef\u001b[0m \u001b[0mnext\u001b[0m\u001b[0;34m(\u001b[0m\u001b[0mself\u001b[0m\u001b[0;34m)\u001b[0m\u001b[0;34m:\u001b[0m\u001b[0;34m\u001b[0m\u001b[0;34m\u001b[0m\u001b[0m\n",
      "\u001b[0;32m/anaconda3/lib/python3.6/site-packages/tweepy/cursor.py\u001b[0m in \u001b[0;36mnext\u001b[0;34m(self)\u001b[0m\n\u001b[1;32m    195\u001b[0m         \u001b[0;32mif\u001b[0m \u001b[0mself\u001b[0m\u001b[0;34m.\u001b[0m\u001b[0mcurrent_page\u001b[0m \u001b[0;32mis\u001b[0m \u001b[0;32mNone\u001b[0m \u001b[0;32mor\u001b[0m \u001b[0mself\u001b[0m\u001b[0;34m.\u001b[0m\u001b[0mpage_index\u001b[0m \u001b[0;34m==\u001b[0m \u001b[0mlen\u001b[0m\u001b[0;34m(\u001b[0m\u001b[0mself\u001b[0m\u001b[0;34m.\u001b[0m\u001b[0mcurrent_page\u001b[0m\u001b[0;34m)\u001b[0m \u001b[0;34m-\u001b[0m \u001b[0;36m1\u001b[0m\u001b[0;34m:\u001b[0m\u001b[0;34m\u001b[0m\u001b[0;34m\u001b[0m\u001b[0m\n\u001b[1;32m    196\u001b[0m             \u001b[0;31m# Reached end of current page, get the next page...\u001b[0m\u001b[0;34m\u001b[0m\u001b[0;34m\u001b[0m\u001b[0;34m\u001b[0m\u001b[0m\n\u001b[0;32m--> 197\u001b[0;31m             \u001b[0mself\u001b[0m\u001b[0;34m.\u001b[0m\u001b[0mcurrent_page\u001b[0m \u001b[0;34m=\u001b[0m \u001b[0mself\u001b[0m\u001b[0;34m.\u001b[0m\u001b[0mpage_iterator\u001b[0m\u001b[0;34m.\u001b[0m\u001b[0mnext\u001b[0m\u001b[0;34m(\u001b[0m\u001b[0;34m)\u001b[0m\u001b[0;34m\u001b[0m\u001b[0;34m\u001b[0m\u001b[0m\n\u001b[0m\u001b[1;32m    198\u001b[0m             \u001b[0mself\u001b[0m\u001b[0;34m.\u001b[0m\u001b[0mpage_index\u001b[0m \u001b[0;34m=\u001b[0m \u001b[0;34m-\u001b[0m\u001b[0;36m1\u001b[0m\u001b[0;34m\u001b[0m\u001b[0;34m\u001b[0m\u001b[0m\n\u001b[1;32m    199\u001b[0m         \u001b[0mself\u001b[0m\u001b[0;34m.\u001b[0m\u001b[0mpage_index\u001b[0m \u001b[0;34m+=\u001b[0m \u001b[0;36m1\u001b[0m\u001b[0;34m\u001b[0m\u001b[0;34m\u001b[0m\u001b[0m\n",
      "\u001b[0;32m/anaconda3/lib/python3.6/site-packages/tweepy/cursor.py\u001b[0m in \u001b[0;36mnext\u001b[0;34m(self)\u001b[0m\n\u001b[1;32m     73\u001b[0m         data, cursors = self.method(cursor=self.next_cursor,\n\u001b[1;32m     74\u001b[0m                                     \u001b[0;34m*\u001b[0m\u001b[0mself\u001b[0m\u001b[0;34m.\u001b[0m\u001b[0margs\u001b[0m\u001b[0;34m,\u001b[0m\u001b[0;34m\u001b[0m\u001b[0;34m\u001b[0m\u001b[0m\n\u001b[0;32m---> 75\u001b[0;31m                                     **self.kargs)\n\u001b[0m\u001b[1;32m     76\u001b[0m         \u001b[0mself\u001b[0m\u001b[0;34m.\u001b[0m\u001b[0mprev_cursor\u001b[0m\u001b[0;34m,\u001b[0m \u001b[0mself\u001b[0m\u001b[0;34m.\u001b[0m\u001b[0mnext_cursor\u001b[0m \u001b[0;34m=\u001b[0m \u001b[0mcursors\u001b[0m\u001b[0;34m\u001b[0m\u001b[0;34m\u001b[0m\u001b[0m\n\u001b[1;32m     77\u001b[0m         \u001b[0;32mif\u001b[0m \u001b[0mlen\u001b[0m\u001b[0;34m(\u001b[0m\u001b[0mdata\u001b[0m\u001b[0;34m)\u001b[0m \u001b[0;34m==\u001b[0m \u001b[0;36m0\u001b[0m\u001b[0;34m:\u001b[0m\u001b[0;34m\u001b[0m\u001b[0;34m\u001b[0m\u001b[0m\n",
      "\u001b[0;32m/anaconda3/lib/python3.6/site-packages/tweepy/binder.py\u001b[0m in \u001b[0;36m_call\u001b[0;34m(*args, **kwargs)\u001b[0m\n\u001b[1;32m    248\u001b[0m             \u001b[0;32mreturn\u001b[0m \u001b[0mmethod\u001b[0m\u001b[0;34m\u001b[0m\u001b[0;34m\u001b[0m\u001b[0m\n\u001b[1;32m    249\u001b[0m         \u001b[0;32melse\u001b[0m\u001b[0;34m:\u001b[0m\u001b[0;34m\u001b[0m\u001b[0;34m\u001b[0m\u001b[0m\n\u001b[0;32m--> 250\u001b[0;31m             \u001b[0;32mreturn\u001b[0m \u001b[0mmethod\u001b[0m\u001b[0;34m.\u001b[0m\u001b[0mexecute\u001b[0m\u001b[0;34m(\u001b[0m\u001b[0;34m)\u001b[0m\u001b[0;34m\u001b[0m\u001b[0;34m\u001b[0m\u001b[0m\n\u001b[0m\u001b[1;32m    251\u001b[0m \u001b[0;34m\u001b[0m\u001b[0m\n\u001b[1;32m    252\u001b[0m     \u001b[0;31m# Set pagination mode\u001b[0m\u001b[0;34m\u001b[0m\u001b[0;34m\u001b[0m\u001b[0;34m\u001b[0m\u001b[0m\n",
      "\u001b[0;32m/anaconda3/lib/python3.6/site-packages/tweepy/binder.py\u001b[0m in \u001b[0;36mexecute\u001b[0;34m(self)\u001b[0m\n\u001b[1;32m    162\u001b[0m                                     \u001b[0;32mif\u001b[0m \u001b[0mself\u001b[0m\u001b[0;34m.\u001b[0m\u001b[0mwait_on_rate_limit_notify\u001b[0m\u001b[0;34m:\u001b[0m\u001b[0;34m\u001b[0m\u001b[0;34m\u001b[0m\u001b[0m\n\u001b[1;32m    163\u001b[0m                                         \u001b[0mlog\u001b[0m\u001b[0;34m.\u001b[0m\u001b[0mwarning\u001b[0m\u001b[0;34m(\u001b[0m\u001b[0;34m\"Rate limit reached. Sleeping for: %d\"\u001b[0m \u001b[0;34m%\u001b[0m \u001b[0msleep_time\u001b[0m\u001b[0;34m)\u001b[0m\u001b[0;34m\u001b[0m\u001b[0;34m\u001b[0m\u001b[0m\n\u001b[0;32m--> 164\u001b[0;31m                                     \u001b[0mtime\u001b[0m\u001b[0;34m.\u001b[0m\u001b[0msleep\u001b[0m\u001b[0;34m(\u001b[0m\u001b[0msleep_time\u001b[0m \u001b[0;34m+\u001b[0m \u001b[0;36m5\u001b[0m\u001b[0;34m)\u001b[0m  \u001b[0;31m# sleep for few extra sec\u001b[0m\u001b[0;34m\u001b[0m\u001b[0;34m\u001b[0m\u001b[0m\n\u001b[0m\u001b[1;32m    165\u001b[0m \u001b[0;34m\u001b[0m\u001b[0m\n\u001b[1;32m    166\u001b[0m                 \u001b[0;31m# if self.wait_on_rate_limit and self._reset_time is not None and \\\u001b[0m\u001b[0;34m\u001b[0m\u001b[0;34m\u001b[0m\u001b[0;34m\u001b[0m\u001b[0m\n",
      "\u001b[0;31mKeyboardInterrupt\u001b[0m: "
     ]
    }
   ],
   "source": [
    "import tweepy\n",
    "from credentials import *\n",
    "from time import sleep\n",
    "\n",
    "# connecting to Twitter\n",
    "consumer_key = 'Bzl0fpbpA3I5o8aEVZQywhFw0'\n",
    "consumer_secret = 'QS0V6HMwamnKCTiwVRpydaViLIS5gnlcN0vbH2c3ttjnqTv9M0'\n",
    "access_token = '1070059672932093952-XuQAIEAquqnbZdTXXoEgDsfNAt4pnh'\n",
    "access_token_secret = 'DP7ip3qX7cDBXExXqqNMtRmw2smr14Ej591Yze7oA2MU5'\n",
    "\n",
    "auth = tweepy.OAuthHandler(consumer_key, consumer_secret)\n",
    "auth.set_access_token(access_token, access_token_secret)\n",
    "api = tweepy.API(auth, wait_on_rate_limit=True)\n",
    "\n",
    "# retweet, favorite and follow some tweets containing the strings sequence \"bot\"\n",
    "for tweet in tweepy.Cursor(api.search, 'bot').items(0): # will retweet, favorite and follow 30 times\n",
    "    \n",
    "    # retweet every 15 seconds\n",
    "    try:\n",
    "        tweet.retweet()\n",
    "        sleep(15)\n",
    "    except Exception as error:\n",
    "        print('Could not retweet because',error)\n",
    "    sleep(15)\n",
    "    \n",
    "    # favorite every 15 seconds\n",
    "    try:\n",
    "        tweet.favorite()\n",
    "    except Exception as error:\n",
    "        print('Could not favorite because',error)\n",
    "    sleep(15)\n",
    "   \n",
    "    # if cannot favorite, return error\n",
    "    try:\n",
    "        api.create_friendship(tweet.author.screen_name)\n",
    "        print(tweet.author.screen_name)\n",
    "    except Exception as error:\n",
    "        print('Could not favorite because',error)\n",
    "        \n",
    "    try:\n",
    "        for follower in tweepy.Cursor(api.followers).items():\n",
    "            follower.follow()\n",
    "    except Exception as error:\n",
    "        print('Could not follow because',error)       "
   ]
  },
  {
   "cell_type": "markdown",
   "metadata": {},
   "source": [
    "Adding complexity to our twitter account reduces the probability of being detected. For instance, if our bot is capable of tweeting its own tweets instead of simply retweeting, the liklihood of detection by a classification algorithm like Random Forsest decreases. In this regard, we use Long Short-Term Memory neural networks (LSTM) as a basis for the text generation process. Unlike other classical neural networks, LSTM is a powerful tool in text generation because it is able to connect previous information to the present task. In fact, the model is built with loops in it allowing information to persist. For tweets generation and faking human behavior, we believe that this characteristic plays an important role. For further details about LSTM, [here](http://colah.github.io/posts/2015-08-Understanding-LSTMs/) is a useful article."
   ]
  },
  {
   "cell_type": "code",
   "execution_count": null,
   "metadata": {},
   "outputs": [],
   "source": [
    "# load LSTM network\n",
    "from keras.models import Sequential\n",
    "from keras.layers import Dense\n",
    "from keras.layers import Dropout\n",
    "from keras.layers import LSTM\n",
    "from keras.callbacks import ModelCheckpoint\n",
    "from keras.utils import np_utils\n",
    "\n",
    "filename = \"utilitarist.txt\"\n",
    "\n",
    "# only lower characters to facilitate implementation\n",
    "raw_text = open(filename).read().lower()\n",
    "chars = sorted(list(set(raw_text)))\n",
    "\n",
    "# create mapping of unique chars to integers\n",
    "char_to_int = dict((c, i) for i, c in enumerate(chars))\n",
    "n_chars = len(raw_text)\n",
    "n_vocab = len(chars)\n",
    "seq_length = 140\n",
    "\n",
    "dataX = []\n",
    "dataY = []\n",
    "for i in range(0, n_chars - seq_length, 1):\n",
    "    seq_in = raw_text[i:i + seq_length]# selecting characters through indexing\n",
    "    seq_out = raw_text[i + seq_length]\n",
    "    dataX.append([char_to_int[char] for char in seq_in])# converting characters to integers\n",
    "    dataY.append(char_to_int[seq_out])"
   ]
  },
  {
   "cell_type": "markdown",
   "metadata": {},
   "source": [
    "Around 48,000 patterns that will be propagated through the network. We reshape the input data and normalize the values by which the neural network can be easily trained. The LSTM model that we use has a total of 2 layers of neurons and its performance is measured via the cross-entropy loss function. It is important to note that our goal is not to generate meaningful texts with the network, but to create a bot which can post on its own. Posting meaningful tweets would require an enormous number of epochs as well as a dozens of hidden layers. One epoch is when an entire dataset is passed forward and backward through the neural network. And as we is shown by our Random Forest detectiion algorithm––as well as other detection algorithms––the content of the tweet has a miniscule influence on detectibility by classification machine learning. \n",
    "\n",
    "Due to the intense computational power and the long training time, we decide to fix the number of epochs to 10. Since one epoch is too big to feed to the computer at once we divide it into several smaller batches. As you can see in line 6 of the following cell, the batch size is 256. This means that the algorithm proceeds to select every 256th character for trainig. We use the dropout as regularization technique to avoid overfitting. Learn more about it [here](https://machinelearningmastery.com/dropout-regularization-deep-learning-models-keras/). For the time spared, we lose in the accuracy of the output. The texts generated do not often make sense at all, but some words are occasionally recognizable. For the purpose of tweet generations, the current accuracy of our algorithm should suffice for successfully evading detection. \n",
    "\n",
    "The network is activated with softmax function which maps the values of the input vectors to a certain probability of occurrence. For example, the letter \"t\" is more common in the english than the letter \"z\". Hence, the probability that the character \"t\" is generated by the network is higher. Perhaps the letter \"h\" is the most probable outcome after the first letter predicted was \"t\". Hence, the network will probably generate \"h\" after having generated \"t\". Finally, the algorithm might understand that \"e\" is the most common letter after \"th\" and hence likely predicts \"e\". In the end, the final output predicted by the network might be \"the\"."
   ]
  },
  {
   "cell_type": "code",
   "execution_count": null,
   "metadata": {},
   "outputs": [],
   "source": [
    "n_patterns = len(dataX)\n",
    "X = np.reshape(dataX, (n_patterns, seq_length, 1))/ float(n_vocab)# reshape X to be [samples, time steps, features] and normalize\n",
    "y = np_utils.to_categorical(dataY)# one hot encode the output variable\n",
    "\n",
    "# define the LSTM model\n",
    "model = Sequential()\n",
    "model.add(LSTM(256, input_shape=(X.shape[1], X.shape[2])))\n",
    "model.add(Dropout(0.2))\n",
    "model.add(Dense(y.shape[1], activation='softmax'))\n",
    "model.compile(loss='categorical_crossentropy', optimizer='adam')\n",
    "filepath=\"weights-improvement-{epoch:02d}-{loss:.4f}.hdf5\"\n",
    "checkpoint = ModelCheckpoint(filepath, monitor='loss', verbose=1, save_best_only=True, mode='min')\n",
    "callbacks_list = [checkpoint]"
   ]
  },
  {
   "cell_type": "markdown",
   "metadata": {},
   "source": [
    "The code in the cell bellow trains the LTSM. It does this by using the data to create conclusions as to why certian letters occur where they do. These conclusions are what enable the LTSM neural networks to generate its own text. We recomend you <span style=\"color:red\">**DO NOT RUN THIS LINE OF CODE**</span> as it takes on average **170 minutes** to train the neural network."
   ]
  },
  {
   "cell_type": "code",
   "execution_count": null,
   "metadata": {},
   "outputs": [],
   "source": [
    "# model.fit(X, y, epochs=10, batch_size=256, callbacks=callbacks_list)"
   ]
  },
  {
   "cell_type": "markdown",
   "metadata": {},
   "source": [
    "In the proceeding section, we upload the hdf5 file in which the neural network has performed best."
   ]
  },
  {
   "cell_type": "code",
   "execution_count": null,
   "metadata": {},
   "outputs": [],
   "source": [
    "# create mapping of unique chars to integers, and a reverse mapping\n",
    "chars = sorted(list(set(raw_text)))\n",
    "char_to_int = dict((c, i) for i, c in enumerate(chars))\n",
    "int_to_char = dict((i, c) for i, c in enumerate(chars))\n",
    "\n",
    "# summarize the loaded data\n",
    "n_chars = len(raw_text)\n",
    "n_vocab = len(chars)\n",
    "\n",
    "# prepare the dataset of input to output pairs encoded as integers\n",
    "seq_length = 140\n",
    "dataX = []\n",
    "dataY = []\n",
    "for i in range(0, n_chars - seq_length, 1):\n",
    "    seq_in = raw_text[i:i + seq_length]\n",
    "    seq_out = raw_text[i + seq_length]\n",
    "    dataX.append([char_to_int[char] for char in seq_in])\n",
    "    dataY.append(char_to_int[seq_out])\n",
    "n_patterns = len(dataX)\n",
    "\n",
    "# reshape X to be [samples, time steps, features]\n",
    "X = np.reshape(dataX, (n_patterns, seq_length, 1))\n",
    "\n",
    "# normalize\n",
    "X = X / float(n_vocab)\n",
    "\n",
    "# one-hot encode the output variable\n",
    "y = np_utils.to_categorical(dataY)\n",
    "\n",
    "# define the LSTM model\n",
    "model = Sequential()\n",
    "model.add(LSTM(256, input_shape=(X.shape[1], X.shape[2])))\n",
    "model.add(Dropout(0.2))\n",
    "model.add(Dense(y.shape[1], activation='softmax'))\n",
    "\n",
    "# load the network weights\n",
    "filename = \"weights-improvement-10-2.5246.hdf5\"\n",
    "model.load_weights(filename)\n",
    "model.compile(loss='categorical_crossentropy', optimizer='adam')\n",
    "\n",
    "# pick a random seed\n",
    "start = np.random.randint(0, len(dataX)-1)\n",
    "pattern = dataX[start]\n",
    "\n",
    "# generate characters\n",
    "for i in range(100):\n",
    "    x = np.reshape(pattern, (1, len(pattern), 1))\n",
    "    x = x / float(n_vocab)\n",
    "    prediction = model.predict(x, verbose=0)\n",
    "    index = np.argmax(prediction)\n",
    "    result = int_to_char[index]\n",
    "    seq_in = [int_to_char[value] for value in pattern]\n",
    "    sys.stdout.write(result)\n",
    "    pattern.append(index)\n",
    "    pattern = pattern[1:len(pattern)]"
   ]
  },
  {
   "cell_type": "markdown",
   "metadata": {},
   "source": [
    "After exstensive training, the text generation is impressively disappointing for the ammount of time and computational effort required. We assume that the inaccuracy is due to an insufficient training time of the network, too small a number of layers and an overly large big batch size. In the coming part, we implement the code that will automatically generate tweets based on the neural network output. "
   ]
  },
  {
   "cell_type": "code",
   "execution_count": null,
   "metadata": {},
   "outputs": [],
   "source": [
    "# importing Twython in order to upload Tweets\n",
    "from twython import Twython\n",
    "\n",
    "# connecting to Twitter\n",
    "consumer_key = 'Bzl0fpbpA3I5o8aEVZQywhFw0'\n",
    "consumer_secret = 'QS0V6HMwamnKCTiwVRpydaViLIS5gnlcN0vbH2c3ttjnqTv9M0'\n",
    "access_token = '1070059672932093952-XuQAIEAquqnbZdTXXoEgDsfNAt4pnh'\n",
    "access_token_secret = 'DP7ip3qX7cDBXExXqqNMtRmw2smr14Ej591Yze7oA2MU5'\n",
    "\n",
    "# determining number of genratred tweets\n",
    "n=input(int())\n",
    "print('number of tweets generated:', n)\n",
    "\n",
    "\n",
    "for tweets in range(0,int(n)):\n",
    "    try:\n",
    "        for i in range(100): # generate 100 characters \n",
    "            x = np.reshape(pattern, (1, len(pattern), 1))/ float(n_vocab)\n",
    "            prediction = model.predict(x, verbose=0)\n",
    "            index = np.argmax(prediction)\n",
    "            result = int_to_char[index]\n",
    "            seq_in = [int_to_char[value] for value in pattern]\n",
    "            pattern.append(index)\n",
    "            pattern = pattern[1:len(pattern)]\n",
    "\n",
    "        message= ' '.join(seq_in)\n",
    "        \n",
    "        # authentification of account characteristics\n",
    "        twitter = Twython(\n",
    "            consumer_key,\n",
    "            consumer_secret,\n",
    "            access_token,\n",
    "            access_token_secret)\n",
    "        twitter.update_status(status=message)\n",
    "        \n",
    "    except Exception as error: # if not able to tweet, define error\n",
    "        print('Could not tweet because',error)"
   ]
  },
  {
   "cell_type": "markdown",
   "metadata": {},
   "source": [
    "The redundancy of the text generation process causes problems. Indeed Twitter does not accept duplicated tweets. Despite that, our bot has made some tweets. Here are some of them:\n",
    "\n",
    "<img src='tweets.png' width=500>\n",
    "<center>*Figure 3: Exhibit of hsg ninja's tweets*</center>\n",
    "\n",
    "Thanks to the ability to retweet, tweet, like, and follow, our bot should be undetected by Random Forest. The link to our smart bot's Twitter account can be found [here](https://twitter.com/hsg_ninja)."
   ]
  },
  {
   "cell_type": "markdown",
   "metadata": {},
   "source": [
    "## 3.2. Creating a Dummy Bot\n",
    "Now that we have created our smart bot, we must create our dummy bot as a control. The purpose of the dummy bot is to show that without text creation and smart retweets, there is a higher likelihood of being detected. The bot uses mostly the same code as the smart bot however it does not generate its own tweets and follows significantly more accounts. It simply follows, retweets, and likes other tweets. Here is the code:"
   ]
  },
  {
   "cell_type": "code",
   "execution_count": null,
   "metadata": {},
   "outputs": [],
   "source": [
    "# connect to Twitter\n",
    "consumer_key = 'S55A6RTOfFU2qX3jHePZfACwc'\n",
    "consumer_secret = 'vYWc99on2ITuzctw3FCsKpwvF62QZuLP6xK9h7d7yt1VOllVAy'\n",
    "access_token = '1088145790571368481-jUXOGRVDAmbU7Ns5cO97fRT1nTOXfm'\n",
    "access_token_secret = 'X7bKw8nJNTsGlWuRqwdt8KiAfFSJAlhxsjBFYRxsHBZPQ'\n",
    "\n",
    "auth = tweepy.OAuthHandler(consumer_key, consumer_secret)\n",
    "auth.set_access_token(access_token, access_token_secret)\n",
    "api = tweepy.API(auth, wait_on_rate_limit=True)\n",
    "\n",
    "# retweet, favorite and follow some tweets containing the strings sequence \"barcelona\"\n",
    "for tweet in tweepy.Cursor(api.search, 'barcelona').items(100):#will retweet, favorite and follow 30 times.\n",
    "    try:\n",
    "        tweet.retweet()\n",
    "        sleep(15) # retweet every 15 seconds\n",
    "    except Exception as error:\n",
    "        print('Could not retweet because',error)\n",
    "    sleep(15)\n",
    "    try:\n",
    "        tweet.favorite()\n",
    "    except Exception as error:\n",
    "        print('Could not favorite because',error)\n",
    "    sleep(15) # favorite every 15 seconds\n",
    "    try:\n",
    "        api.create_friendship(tweet.author.screen_name)\n",
    "        print(tweet.author.screen_name)\n",
    "    except Exception as error:\n",
    "        print('Could not favorite because',error)\n",
    "        \n",
    "    try:\n",
    "        for follower in tweepy.Cursor(api.followers).items():\n",
    "            follower.follow()\n",
    "    except Exception as error:\n",
    "        print('Could not follow because',error)"
   ]
  },
  {
   "cell_type": "markdown",
   "metadata": {},
   "source": [
    "The consumer key and access token are different since we are connecting to another account. The key word is no longer \"bot\", but \"barcelona\". The dummy bot will therefore retweet and like any tweet containing the word \"barcelona\" every 15 seconds and will also follow the author of those tweets. When the bot reaches the limit of 100 tweets, it will stop. Here is how it looks on Twitter:\n",
    "\n",
    "<img src='retweet.png' width=500>\n",
    "<center>*Figure 4: Example of retweet and like based on traget word \"Barcelona\"*</center>\n",
    "\n",
    "You can take a look at the bot [here](https://twitter.com/hsg_dummy)"
   ]
  },
  {
   "cell_type": "markdown",
   "metadata": {},
   "source": [
    "<a id=\"4\"></a>\n",
    "# 4. Data Retrieval "
   ]
  },
  {
   "cell_type": "markdown",
   "metadata": {},
   "source": [
    "Now that our two bots have done their job on Twitter, we need to get their data to test them with the Random Forest algorithm."
   ]
  },
  {
   "cell_type": "code",
   "execution_count": 17,
   "metadata": {},
   "outputs": [
    {
     "data": {
      "text/html": [
       "<div>\n",
       "<style scoped>\n",
       "    .dataframe tbody tr th:only-of-type {\n",
       "        vertical-align: middle;\n",
       "    }\n",
       "\n",
       "    .dataframe tbody tr th {\n",
       "        vertical-align: top;\n",
       "    }\n",
       "\n",
       "    .dataframe thead th {\n",
       "        text-align: right;\n",
       "    }\n",
       "</style>\n",
       "<table border=\"1\" class=\"dataframe\">\n",
       "  <thead>\n",
       "    <tr style=\"text-align: right;\">\n",
       "      <th></th>\n",
       "      <th>followers</th>\n",
       "      <th>friends</th>\n",
       "      <th>statuses count</th>\n",
       "      <th>favourites</th>\n",
       "      <th>location</th>\n",
       "      <th>default profile image</th>\n",
       "      <th>language</th>\n",
       "      <th>text</th>\n",
       "      <th>created at</th>\n",
       "      <th>verified</th>\n",
       "      <th>bot</th>\n",
       "    </tr>\n",
       "    <tr>\n",
       "      <th>screen name</th>\n",
       "      <th></th>\n",
       "      <th></th>\n",
       "      <th></th>\n",
       "      <th></th>\n",
       "      <th></th>\n",
       "      <th></th>\n",
       "      <th></th>\n",
       "      <th></th>\n",
       "      <th></th>\n",
       "      <th></th>\n",
       "      <th></th>\n",
       "    </tr>\n",
       "  </thead>\n",
       "  <tbody>\n",
       "    <tr>\n",
       "      <th>hsg ninja</th>\n",
       "      <td>36</td>\n",
       "      <td>115</td>\n",
       "      <td>116</td>\n",
       "      <td>111</td>\n",
       "      <td>NaN</td>\n",
       "      <td>True</td>\n",
       "      <td>en</td>\n",
       "      <td>NaN</td>\n",
       "      <td>2018-12-04 20:58:01</td>\n",
       "      <td>False</td>\n",
       "      <td>NaN</td>\n",
       "    </tr>\n",
       "  </tbody>\n",
       "</table>\n",
       "</div>"
      ],
      "text/plain": [
       "             followers  friends  statuses count  favourites  location  \\\n",
       "screen name                                                             \n",
       "hsg ninja           36      115             116         111       NaN   \n",
       "\n",
       "             default profile image language  text           created at  \\\n",
       "screen name                                                              \n",
       "hsg ninja                     True       en   NaN  2018-12-04 20:58:01   \n",
       "\n",
       "             verified  bot  \n",
       "screen name                 \n",
       "hsg ninja       False  NaN  "
      ]
     },
     "metadata": {},
     "output_type": "display_data"
    },
    {
     "data": {
      "text/html": [
       "<div>\n",
       "<style scoped>\n",
       "    .dataframe tbody tr th:only-of-type {\n",
       "        vertical-align: middle;\n",
       "    }\n",
       "\n",
       "    .dataframe tbody tr th {\n",
       "        vertical-align: top;\n",
       "    }\n",
       "\n",
       "    .dataframe thead th {\n",
       "        text-align: right;\n",
       "    }\n",
       "</style>\n",
       "<table border=\"1\" class=\"dataframe\">\n",
       "  <thead>\n",
       "    <tr style=\"text-align: right;\">\n",
       "      <th></th>\n",
       "      <th>followers</th>\n",
       "      <th>friends</th>\n",
       "      <th>statuses count</th>\n",
       "      <th>favourites</th>\n",
       "      <th>location</th>\n",
       "      <th>default profile image</th>\n",
       "      <th>language</th>\n",
       "      <th>text</th>\n",
       "      <th>created at</th>\n",
       "      <th>verified</th>\n",
       "      <th>bot</th>\n",
       "    </tr>\n",
       "    <tr>\n",
       "      <th>screen name</th>\n",
       "      <th></th>\n",
       "      <th></th>\n",
       "      <th></th>\n",
       "      <th></th>\n",
       "      <th></th>\n",
       "      <th></th>\n",
       "      <th></th>\n",
       "      <th></th>\n",
       "      <th></th>\n",
       "      <th></th>\n",
       "      <th></th>\n",
       "    </tr>\n",
       "  </thead>\n",
       "  <tbody>\n",
       "    <tr>\n",
       "      <th>hsg_dummy</th>\n",
       "      <td>4</td>\n",
       "      <td>93</td>\n",
       "      <td>99</td>\n",
       "      <td>99</td>\n",
       "      <td>St. Gallen</td>\n",
       "      <td>True</td>\n",
       "      <td>en</td>\n",
       "      <td>NaN</td>\n",
       "      <td>2019-01-23 18:45:48</td>\n",
       "      <td>False</td>\n",
       "      <td>NaN</td>\n",
       "    </tr>\n",
       "  </tbody>\n",
       "</table>\n",
       "</div>"
      ],
      "text/plain": [
       "             followers  friends  statuses count  favourites    location  \\\n",
       "screen name                                                               \n",
       "hsg_dummy            4       93              99          99  St. Gallen   \n",
       "\n",
       "             default profile image language  text           created at  \\\n",
       "screen name                                                              \n",
       "hsg_dummy                     True       en   NaN  2019-01-23 18:45:48   \n",
       "\n",
       "             verified  bot  \n",
       "screen name                 \n",
       "hsg_dummy       False  NaN  "
      ]
     },
     "metadata": {},
     "output_type": "display_data"
    }
   ],
   "source": [
    "import csv\n",
    "\n",
    "# consumer keys and access tokens, used for OAuth\n",
    "consumer_key ='rwIGfpm2zAHHJlUk3CB3P3joU'\n",
    "consumer_secret ='MXD9Oj1BroVtfhTEv4DoyXEgtnyDwKR4qv012Yr4we6SyXBgdl'\n",
    "access_token ='351845855-DYjD5t8wKcJHaAXbPdQInfNrsrThr74QiQ4WxpUX'\n",
    "access_secret ='tnu4CQvyK4bq6gcoDy7N6SXiHBelJNDo4Oah3ZN6bV3A7'\n",
    "\n",
    " \n",
    "# OAuth process, using the keys and tokens and creation of an interface using the authentication\n",
    "auth = tweepy.OAuthHandler(consumer_key, consumer_secret)\n",
    "auth.set_access_token(access_token, access_secret)\n",
    "api = tweepy.API(auth)\n",
    "\n",
    "def download_data(user_target):\n",
    "    # target the twitter user that we want to get data from\n",
    "    user = api.get_user(str(user_target))\n",
    "\n",
    "    # create a csv file and retrieve all necessary data through the api with 'user'\n",
    "    fieldnames = [\"screen name\",\"followers\",\"friends\",\"statuses count\",\"favourites\", \"location\", \"default profile image\", \"language\",\"text\", \"created at\", \"verified\", \"bot\"]\n",
    "    with open(user_target+'.csv', mode='w') as csv_file:\n",
    "        writer = csv.DictWriter(csv_file, fieldnames)\n",
    "        writer.writeheader()\n",
    "        writer.writerow({\"screen name\" : user.name,\"followers\" : user.followers_count,\"friends\" : user.friends_count,\"statuses count\" : user.statuses_count,\"favourites\" : user.favourites_count, \"location\" : user.location, \"default profile image\" : user.default_profile_image, \"language\" : user.lang, \"text\": np.nan, \"created at\" : user.created_at, \"verified\" : user.verified, \"bot\":np.nan})\n",
    "\n",
    "    # display the data that has been collected\n",
    "    display(pd.read_csv(user_target + '.csv', index_col  =\"screen name\"))\n",
    "\n",
    "download_data('hsg_ninja')\n",
    "download_data('hsg_dummy')"
   ]
  },
  {
   "cell_type": "markdown",
   "metadata": {},
   "source": [
    "The above cell is using the Twitter API to grab the data of a targeted user. Here, we target our dummy bot called \"hsg dummy\". We use the method api.get_user to return the information of our specific user. We then create a csv file where we name the different columns and use a dictionary to link the columns to specific orders made to the api. For example, we attribute the function user.name to the string \"screen name\". \n",
    "\n",
    "In the end, we display the data that has been saved into the csv file thanks to Pandas.\n",
    "\n",
    "To make the difference between the two bots that we have just created, we must differentiate tweets and retweets. There is no proper way to get the number of tweets and the number of retweets via the Twitter API. As one can see in the display of our bot \"hsg dummy\" above, we only get the statuses count. It is the sum of tweet of retweets."
   ]
  },
  {
   "cell_type": "code",
   "execution_count": 18,
   "metadata": {},
   "outputs": [
    {
     "name": "stdout",
     "output_type": "stream",
     "text": [
      "...116 of hsg_ninja's tweets have been downloaded\n",
      "...98 of hsg_dummy's tweets have been downloaded\n"
     ]
    }
   ],
   "source": [
    "def retrieve_tweets(screen_name):\n",
    "    all_tweets = []\n",
    "    new_tweets = api.user_timeline(screen_name, count=200)\n",
    "    all_tweets.extend(new_tweets)\n",
    "    oldest = all_tweets[-1].id - 1\n",
    "\n",
    "    while len(new_tweets) > 0:\n",
    "        new_tweets = api.user_timeline(screen_name = screen_name, count=200, max_id=oldest)\n",
    "        all_tweets.extend(new_tweets)\n",
    "        oldest = all_tweets[-1].id - 1\n",
    "        print(\"...{} of {}'s tweets have been downloaded\".format(len(all_tweets),screen_name))\n",
    "\n",
    "    data = [item.text.encode('utf8') for item in all_tweets]\n",
    "    df = pd.DataFrame(data, columns = ['tweet'])\n",
    "    df.to_csv(screen_name + '_tweets.csv', index=False)\n",
    "\n",
    "retrieve_tweets('hsg_ninja')\n",
    "retrieve_tweets('hsg_dummy')"
   ]
  },
  {
   "cell_type": "markdown",
   "metadata": {},
   "source": [
    "In the function above, we go trough the timeline of one of our smart bot. Thanks to that, we get all the tweets and retweets in a written format. The limit of tweet, that we save into a csv file, is set at 200. Therefore, we can get the entire timeline."
   ]
  },
  {
   "cell_type": "markdown",
   "metadata": {},
   "source": [
    "<a id=\"5\"></a>\n",
    "# 5. Results & Conclusion\n",
    "Now that we have imported the necessary data from Twitter's API, we can test whether our boot can be detected by the Random Forest algorithm. We first add the tweets to the dataset and use the `bot_test` function to organize the data and subsequently use our `rf.predict()` function to predict an outcome of either 1 or 0. 1 implying that our bot was indeed predicted to be a bot and 0 implying that it went undetected. "
   ]
  },
  {
   "cell_type": "code",
   "execution_count": 20,
   "metadata": {},
   "outputs": [
    {
     "name": "stdout",
     "output_type": "stream",
     "text": [
      "The Random Forest classified hsg_dummy with [1]\n",
      "hsg_dummy is a bot!\n",
      "The Random Forest classified hsg ninja with [0]\n",
      "hsg ninja is not a bot.\n"
     ]
    }
   ],
   "source": [
    "def bot_test(file):\n",
    "    data = pd.read_csv(str(file) + '.csv')\n",
    "    tweets = pd.read_csv(str(file) + '_tweets.csv')\n",
    "    \n",
    "    # adding tweets to text column of data file\n",
    "    for entry in tweets['tweet']:\n",
    "        data['text'] = entry\n",
    "        \n",
    "    # recording bot name\n",
    "    bot_name = data.iloc[0,0]\n",
    "\n",
    "    # if bot in name replace with 1 or 0\n",
    "    data['screen name'] = np.where(data['screen name'].str.contains('bot'),1,0)\n",
    "\n",
    "    # weighting number of retweets per account and assigning value to new index column\n",
    "    number_retweets = (data[\"text\"].str.find('retweet')+1) + (data[\"text\"].str.find('RT @')+1)\n",
    "    data[\"retweets\"] = number_retweets/1000\n",
    "\n",
    "    # removing non-numerical data & converting booleans to 1s & 0s\n",
    "    for column in data:\n",
    "        if np.issubdtype(data[str(column)].dtype, np.dtype(bool)) == True:\n",
    "            data[column]*=1\n",
    "        elif np.issubdtype(data[str(column)].dtype, np.number) == False:\n",
    "            data = data.drop(str(column), axis = 1)\n",
    "\n",
    "    # removing NaNs and bot column\n",
    "    data = data.dropna(axis=1, how='all')\n",
    "\n",
    "    # converting into array\n",
    "    data = np.array(data)\n",
    "        \n",
    "    # testing the bot using the trained Random Forest\n",
    "    bot_or_not = rf.predict(data)\n",
    "    \n",
    "    print('The Random Forest classified {} with {}'.format(bot_name, bot_or_not))\n",
    "       \n",
    "    if bot_or_not == 1:\n",
    "        print('{} is a bot!'.format(bot_name))\n",
    "    \n",
    "    elif bot_or_not == 0:\n",
    "        print('{} is not a bot.'.format(bot_name))\n",
    "        \n",
    "bot_test('hsg_dummy')   \n",
    "bot_test('hsg_ninja')"
   ]
  },
  {
   "cell_type": "markdown",
   "metadata": {},
   "source": [
    "Ta dah! The Random Forest does not recognize the smart bot! However it was able to detect the more traditional bot which did not use LSTM machine learning. Despite Random Forest's strengths and ubiquitous implementation for bot detection, some bots can circumvent detection through similar machine learning models. To confirm this result, one can use this code to import data from any Twitter account using their Twitter handle (for example the bot \"FTGMami_bot\") with the `download_data` and `retrieve_tweets` functions. Then run it through the `bot_test` function to determine whether an account is a bot or not.\n",
    "\n",
    "\n",
    "![These aren't the driods you are looking for](https://media.giphy.com/media/3o84sF21zQYacFcl68/giphy.gif)"
   ]
  },
  {
   "cell_type": "markdown",
   "metadata": {},
   "source": [
    "<a id=\"6\"></a>\n",
    "# 6. Appendix\n",
    "The code bellow was used to create the image of the single decision tree in [figure 1](#fig1) taken from our Random Forest Algorithm."
   ]
  },
  {
   "cell_type": "code",
   "execution_count": 104,
   "metadata": {},
   "outputs": [],
   "source": [
    "# VISUALISING SINGLE TREE FROM RANDOM FOREST\n",
    "from sklearn.tree import export_graphviz\n",
    "import pydot\n",
    "\n",
    "# singling out a single tree from random forest\n",
    "tree_ex = rf.estimators_[5]\n",
    "\n",
    "# exporting the visiulization and creating a graph\n",
    "export_graphviz(tree_ex, out_file = 'bot_tree_example.dot', feature_names = data_list, rounded = True, precision = 1)\n",
    "\n",
    "(graph, ) = pydot.graph_from_dot_file('bot_tree_example.dot')\n",
    "\n",
    "graph.write_png('bot_tree_example.png')"
   ]
  },
  {
   "cell_type": "markdown",
   "metadata": {},
   "source": [
    "<a id=\"7\"></a>\n",
    "# 7. References\n",
    "Hastie, T., Tibshirani, R., & Friedman, J. H. (2017). *The Elements of Statistical Learning: Data mining, inference, and prediction.* New York, NY, USA: Springer."
   ]
  },
  {
   "cell_type": "markdown",
   "metadata": {},
   "source": [
    "<center>Created by: Bryan Jacot-Descombes, Mike Sipofo, August Strotz</center>"
   ]
  }
 ],
 "metadata": {
  "kernelspec": {
   "display_name": "Python 3",
   "language": "python",
   "name": "python3"
  },
  "language_info": {
   "codemirror_mode": {
    "name": "ipython",
    "version": 3
   },
   "file_extension": ".py",
   "mimetype": "text/x-python",
   "name": "python",
   "nbconvert_exporter": "python",
   "pygments_lexer": "ipython3",
   "version": "3.6.8"
  }
 },
 "nbformat": 4,
 "nbformat_minor": 2
}
